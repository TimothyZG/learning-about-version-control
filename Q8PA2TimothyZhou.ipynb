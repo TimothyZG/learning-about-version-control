{
 "cells": [
  {
   "cell_type": "markdown",
   "id": "c5aac38f-0802-4b79-8b86-cad23efa9842",
   "metadata": {},
   "source": [
    "## This is a Markdown Cell\n",
    "**following is a code cell that outputs something**"
   ]
  },
  {
   "cell_type": "code",
   "execution_count": 1,
   "id": "fbf61155-6d31-42c7-b87a-9dfab86afb6b",
   "metadata": {},
   "outputs": [
    {
     "name": "stdout",
     "output_type": "stream",
     "text": [
      "[1] \"Hello\"\n"
     ]
    }
   ],
   "source": [
    "someStr <- \"Hello\"\n",
    "print(someStr)"
   ]
  },
  {
   "cell_type": "code",
   "execution_count": null,
   "id": "2afa8eab-dc64-46dd-80ae-7b2a4872bf15",
   "metadata": {},
   "outputs": [],
   "source": []
  }
 ],
 "metadata": {
  "kernelspec": {
   "display_name": "R",
   "language": "R",
   "name": "ir"
  },
  "language_info": {
   "codemirror_mode": "r",
   "file_extension": ".r",
   "mimetype": "text/x-r-source",
   "name": "R",
   "pygments_lexer": "r",
   "version": "4.0.2"
  }
 },
 "nbformat": 4,
 "nbformat_minor": 5
}
